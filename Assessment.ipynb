{
 "cells": [
  {
   "cell_type": "markdown",
   "id": "2fe95810",
   "metadata": {},
   "source": [
    "# Assessment\n"
   ]
  },
  {
   "cell_type": "code",
   "execution_count": null,
   "id": "785bdcef",
   "metadata": {},
   "outputs": [],
   "source": [
    "import jsonschema # Python block codes\n",
    "from jsonschema import validate, validationERROR\n",
    "from .schemas import order_schema"
   ]
  },
  {
   "cell_type": "code",
   "execution_count": null,
   "id": "ed306f4c",
   "metadata": {},
   "outputs": [],
   "source": [
    "\n",
    "    user_schema = {\n",
    "        \"type\": \"object\"\n",
    "        \"property\": {  # invite the json requirements below\n",
    "            \"user_id\": {\"type\": \"string\"},\n",
    "            \"email\": {\"type\": \"string\", \"format\", \"email\"},\n",
    "            \"timestamp\": {\"type\": \"string\", \"format\", \"date-time\"},\n",
    "            \"items\": {\n",
    "                \"type\": \"array\",\n",
    "                \"items\": {\n",
    "                    \"type\": \"object\",\n",
    "                    \"properties\":{\n",
    "                        \"item_id\": {\"type\", \"string\"},\n",
    "                        \"quantity\": {\"type\", \"integer\", \"minimum\": 1, \"price\"},\n",
    "                        \n",
    "                    },\n",
    "                    \"required\":[\"item_id\", \"quantity\"]\n",
    "                    \n",
    "                }\n",
    "            }\n",
    "        }\n",
    "    },\n",
    "    \"required\":[\"user_id\", \"email\", \"timestamp\", \"items\"]"
   ]
  },
  {
   "cell_type": "code",
   "execution_count": null,
   "id": "eff1db1f",
   "metadata": {},
   "outputs": [],
   "source": [
    "def validate_json(data, schema):\n",
    "    try:\n",
    "        validate(instant=data, schema=schema)\n",
    "    except: validateERROR as e:\n",
    "            return False, e.message\n",
    "        return True, \"Python VAlidation is SUCCESSFUL\"\n",
    "def validate_order(data)\n",
    "    return validate_json(data, order_schema)"
   ]
  },
  {
   "cell_type": "code",
   "execution_count": null,
   "id": "7e64fea6",
   "metadata": {},
   "outputs": [],
   "source": [
    "# API Authorization\n",
    "from flask import Flask, request, jsonify\n",
    "from .validates import validate_order\n",
    "\n",
    "\n",
    "app = Flask(_name_)\n",
    "\n",
    "def create_order()\n",
    "    data= request.json\n",
    "    \n",
    "    is.valid, message = validate_order(data)\n",
    "    if not is_valid:\n",
    "        return jsonify({\"error\": message}), 300\n",
    "    return jsonify({\"message\": \"Order is successful\", \"data\": data}), 150 \n",
    "if_name_=='_main_'\n",
    "app.run(debug=True)\n"
   ]
  },
  {
   "cell_type": "code",
   "execution_count": null,
   "id": "75c0671a",
   "metadata": {},
   "outputs": [],
   "source": [
    "curl -X POST http://localhost:8888/notebooks/Assessment.ipynb\n",
    "        -H \"contents-Type: Application JSON \" \\\n",
    "        -d '{\n",
    "            \"user_id\": \"abc123\": \"Shabbir\",\n",
    "            \"email\": \"user1@example.com\",\n",
    "            \"timestamp\": \"2024-11-01-03.44\",\n",
    "            \"items\": [\n",
    "                {\"items_id\": \"item001\" , \"quantity\": 3, \"price\":9.99},\n",
    "                {\"items_id\": \"item002\" , \"quantity\": 1, \"price\":19.99}\n",
    "            ]\n",
    "                }'"
   ]
  },
  {
   "cell_type": "code",
   "execution_count": null,
   "id": "1ace5548",
   "metadata": {},
   "outputs": [],
   "source": [
    "\n",
    "# Useful information\n",
    "[\n",
    "{\n",
    "  \"user_id\": \"abc123\",\n",
    "  \"email\": \"user1@example.com\",\n",
    "  \"timestamp\": \"2024-09-03T12:30:00Z\",\n",
    "  \"items\": [\n",
    "    {\"item_id\": \"item001\", \"quantity\": 3, \"price\": 9.99},\n",
    "    {\"item_id\": \"item002\", \"quantity\": 1, \"price\": 19.99}\n",
    "  ]\n",
    "},\n",
    "{\n",
    "  \"user_id\": \"xyz789\",\n",
    "  \"email\": \"user2@invalid-email\",  // Invalid email\n",
    "  \"timestamp\": \"2024-09-03T15:45:00Z\",\n",
    "  \"items\": []\n",
    "},\n",
    "{\n",
    "  \"user_id\": \"\",\n",
    "  \"email\": \"user3@example.com\",\n",
    "  \"timestamp\": \"invalid-timestamp\", // Invalid timestamp\n",
    "  \"items\": [\n",
    "    {\"item_id\": \"item003\", \"quantity\": 2, \"price\": -5.99} // Invalid price\n",
    "  ]\n",
    "}\n",
    "]"
   ]
  }
 ],
 "metadata": {
  "kernelspec": {
   "display_name": "Python 3 (ipykernel)",
   "language": "python",
   "name": "python3"
  },
  "language_info": {
   "codemirror_mode": {
    "name": "ipython",
    "version": 3
   },
   "file_extension": ".py",
   "mimetype": "text/x-python",
   "name": "python",
   "nbconvert_exporter": "python",
   "pygments_lexer": "ipython3",
   "version": "3.9.13"
  }
 },
 "nbformat": 4,
 "nbformat_minor": 5
}
